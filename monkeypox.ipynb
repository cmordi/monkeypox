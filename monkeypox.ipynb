{
 "cells": [
  {
   "cell_type": "code",
   "execution_count": null,
   "metadata": {},
   "outputs": [],
   "source": [
    "import numpy as np \n",
    "import pandas as pd\n",
    "\n",
    "# data visualisation\n",
    "import matplotlib.pyplot as plt\n",
    "import plotly.express as px\n",
    "import seaborn as sns \n",
    "\n",
    "import missingno as msno #visualises missing values\n",
    "from wordcloud import WordCloud #to find the most frequent words "
   ]
  },
  {
   "cell_type": "code",
   "execution_count": null,
   "metadata": {},
   "outputs": [],
   "source": [
    "#data that is being scraped from source \n",
    "scrape = \"https://raw.githubusercontent.com/globaldothealth/monkeypox/main/latest.csv\""
   ]
  },
  {
   "cell_type": "markdown",
   "metadata": {},
   "source": [
    "### Pre-Processing(data cleaning):\n",
    "- loading\n",
    "- peeking\n",
    "- general info"
   ]
  },
  {
   "cell_type": "code",
   "execution_count": null,
   "metadata": {},
   "outputs": [],
   "source": [
    "#loading data \n",
    "df = pd.read_csv(scrape)"
   ]
  },
  {
   "cell_type": "code",
   "execution_count": null,
   "metadata": {},
   "outputs": [],
   "source": [
    "df.head()"
   ]
  },
  {
   "cell_type": "code",
   "execution_count": null,
   "metadata": {},
   "outputs": [],
   "source": [
    "df.tail() #addressed results a few lines down"
   ]
  },
  {
   "cell_type": "code",
   "execution_count": null,
   "metadata": {},
   "outputs": [],
   "source": [
    "#number of countries with monkeypox cases\n",
    "len(df[\"Country\"].unique())"
   ]
  },
  {
   "cell_type": "code",
   "execution_count": null,
   "metadata": {},
   "outputs": [],
   "source": [
    "df.info()"
   ]
  },
  {
   "cell_type": "code",
   "execution_count": null,
   "metadata": {},
   "outputs": [],
   "source": [
    "#to see the number of missing values for the columns in the dataset\n",
    "\n",
    "df.isnull().sum() "
   ]
  },
  {
   "cell_type": "code",
   "execution_count": null,
   "metadata": {},
   "outputs": [],
   "source": [
    "#further breakdown of missing values and their proportionality\n",
    "\n",
    "total = df.isnull().sum().sort_values(ascending=False) #my isnull function loops through each row in a single column and return 1 for missing data & 0 for non-missing \n",
    "percentage = (df.isnull().sum()/df.isnull().count()).sort_values(ascending=False) #finds the percentage of these missing values that each colum adds up to\n",
    "missing_values = pd.concat([total, percentage], axis=1, keys=[\"Total\", \"Percentage\"])\n",
    "missing_values.head(50)"
   ]
  },
  {
   "cell_type": "code",
   "execution_count": null,
   "metadata": {},
   "outputs": [],
   "source": [
    "#BASED ON THE OUTPUT OF THE CODE ABOVE I NEED TO OMIT THE USELESS COLUMNS WITH MISSING VALUES, BUT I CANNOT DECIDE ON WHAT TO DO SO ILL LEAVE IT"
   ]
  },
  {
   "cell_type": "markdown",
   "metadata": {},
   "source": [
    "##### A few values will have to be omitted due to their lack of importance in regards to the integrity of my dataset "
   ]
  },
  {
   "cell_type": "markdown",
   "metadata": {},
   "source": [
    "### Exploratory Data Analysis (EDA)"
   ]
  },
  {
   "cell_type": "code",
   "execution_count": null,
   "metadata": {},
   "outputs": [],
   "source": [
    "#to show the top 15 countries by monkeypox cases in desc order\n",
    "df[\"Country\"].value_counts().nlargest(n=15)"
   ]
  },
  {
   "cell_type": "code",
   "execution_count": null,
   "metadata": {},
   "outputs": [],
   "source": [
    "#function that plots the number of monkeypox cases per country (matplotlib & seaborn) (non interactive)\n",
    "def countrycases():\n",
    "    plt.figure(figsize=(50,8))\n",
    "    sns.countplot(x=\"Country\", data=df)\n",
    "    plt.xticks(rotation=90)\n",
    "    plt.show()"
   ]
  },
  {
   "cell_type": "code",
   "execution_count": null,
   "metadata": {},
   "outputs": [],
   "source": [
    "countrycases()"
   ]
  },
  {
   "cell_type": "code",
   "execution_count": null,
   "metadata": {},
   "outputs": [],
   "source": [
    "#lists the top 15 cities with monkeypox cases ranked in desc order\n",
    "citycases = df[\"City\"].value_counts().nlargest(n=15)\n",
    "print(citycases)"
   ]
  },
  {
   "cell_type": "code",
   "execution_count": 180,
   "metadata": {},
   "outputs": [
    {
     "data": {
      "text/plain": [
       "<AxesSubplot:xlabel='Status', ylabel='count'>"
      ]
     },
     "execution_count": 180,
     "metadata": {},
     "output_type": "execute_result"
    },
    {
     "data": {
      "image/png": "[encoded data removed]",
      "text/plain": [
       "<Figure size 432x288 with 1 Axes>"
      ]
     },
     "metadata": {
      "needs_background": "light"
     },
     "output_type": "display_data"
    }
   ],
   "source": [
    "#distribution based on status (total)\n",
    "sns.countplot(x=\"Status\",data=df)"
   ]
  },
  {
   "cell_type": "code",
   "execution_count": null,
   "metadata": {},
   "outputs": [],
   "source": [
    "#distribution based on country\n",
    "\n",
    "top_countries=list(df[\"Country\"].value_counts().to_frame().nlargest(115,\"Country\").index)\n",
    "top_countries_df = df[df[\"Country\"].isin(top_countries)]"
   ]
  },
  {
   "cell_type": "code",
   "execution_count": 191,
   "metadata": {},
   "outputs": [
    {
     "ename": "ValueError",
     "evalue": "Plot kind 'Count' is not recognized",
     "output_type": "error",
     "traceback": [
      "\u001b[0;31m---------------------------------------------------------------------------\u001b[0m",
      "\u001b[0;31mKeyError\u001b[0m                                  Traceback (most recent call last)",
      "File \u001b[0;32m/usr/local/lib/python3.8/site-packages/seaborn/categorical.py:3754\u001b[0m, in \u001b[0;36mcatplot\u001b[0;34m(x, y, hue, data, row, col, col_wrap, estimator, ci, n_boot, units, seed, order, hue_order, row_order, col_order, kind, height, aspect, orient, color, palette, legend, legend_out, sharex, sharey, margin_titles, facet_kws, **kwargs)\u001b[0m\n\u001b[1;32m   <a href='file:///usr/local/lib/python3.8/site-packages/seaborn/categorical.py?line=3752'>3753</a>\u001b[0m \u001b[39mtry\u001b[39;00m:\n\u001b[0;32m-> <a href='file:///usr/local/lib/python3.8/site-packages/seaborn/categorical.py?line=3753'>3754</a>\u001b[0m     plot_func \u001b[39m=\u001b[39m \u001b[39mglobals\u001b[39;49m()[kind \u001b[39m+\u001b[39;49m \u001b[39m\"\u001b[39;49m\u001b[39mplot\u001b[39;49m\u001b[39m\"\u001b[39;49m]\n\u001b[1;32m   <a href='file:///usr/local/lib/python3.8/site-packages/seaborn/categorical.py?line=3754'>3755</a>\u001b[0m \u001b[39mexcept\u001b[39;00m \u001b[39mKeyError\u001b[39;00m:\n",
      "\u001b[0;31mKeyError\u001b[0m: 'Countplot'",
      "\nDuring handling of the above exception, another exception occurred:\n",
      "\u001b[0;31mValueError\u001b[0m                                Traceback (most recent call last)",
      "\u001b[1;32m/Users/mordi/code/monkeypox/monkeypox.ipynb Cell 20'\u001b[0m in \u001b[0;36m<cell line: 2>\u001b[0;34m()\u001b[0m\n\u001b[1;32m      <a href='vscode-notebook-cell:/Users/mordi/code/monkeypox/monkeypox.ipynb#ch0000024?line=0'>1</a>\u001b[0m plt\u001b[39m.\u001b[39mfigure(figsize\u001b[39m=\u001b[39m(\u001b[39m30\u001b[39m,\u001b[39m10\u001b[39m))\n\u001b[0;32m----> <a href='vscode-notebook-cell:/Users/mordi/code/monkeypox/monkeypox.ipynb#ch0000024?line=1'>2</a>\u001b[0m sns\u001b[39m.\u001b[39;49mcatplot(data\u001b[39m=\u001b[39;49mtop_countries_df,kind\u001b[39m=\u001b[39;49m\u001b[39m\"\u001b[39;49m\u001b[39mCount\u001b[39;49m\u001b[39m\"\u001b[39;49m, x \u001b[39m=\u001b[39;49m \u001b[39m\"\u001b[39;49m\u001b[39mCountry\u001b[39;49m\u001b[39m\"\u001b[39;49m, hue \u001b[39m=\u001b[39;49m \u001b[39m\"\u001b[39;49m\u001b[39mStatus\u001b[39;49m\u001b[39m\"\u001b[39;49m) \n\u001b[1;32m      <a href='vscode-notebook-cell:/Users/mordi/code/monkeypox/monkeypox.ipynb#ch0000024?line=2'>3</a>\u001b[0m plt\u001b[39m.\u001b[39mxticks(rotation\u001b[39m=\u001b[39m\u001b[39m90\u001b[39m)\n\u001b[1;32m      <a href='vscode-notebook-cell:/Users/mordi/code/monkeypox/monkeypox.ipynb#ch0000024?line=3'>4</a>\u001b[0m plt\u001b[39m.\u001b[39mshow()\n",
      "File \u001b[0;32m/usr/local/lib/python3.8/site-packages/seaborn/_decorators.py:46\u001b[0m, in \u001b[0;36m_deprecate_positional_args.<locals>.inner_f\u001b[0;34m(*args, **kwargs)\u001b[0m\n\u001b[1;32m     <a href='file:///usr/local/lib/python3.8/site-packages/seaborn/_decorators.py?line=35'>36</a>\u001b[0m     warnings\u001b[39m.\u001b[39mwarn(\n\u001b[1;32m     <a href='file:///usr/local/lib/python3.8/site-packages/seaborn/_decorators.py?line=36'>37</a>\u001b[0m         \u001b[39m\"\u001b[39m\u001b[39mPass the following variable\u001b[39m\u001b[39m{}\u001b[39;00m\u001b[39m as \u001b[39m\u001b[39m{}\u001b[39;00m\u001b[39mkeyword arg\u001b[39m\u001b[39m{}\u001b[39;00m\u001b[39m: \u001b[39m\u001b[39m{}\u001b[39;00m\u001b[39m. \u001b[39m\u001b[39m\"\u001b[39m\n\u001b[1;32m     <a href='file:///usr/local/lib/python3.8/site-packages/seaborn/_decorators.py?line=37'>38</a>\u001b[0m         \u001b[39m\"\u001b[39m\u001b[39mFrom version 0.12, the only valid positional argument \u001b[39m\u001b[39m\"\u001b[39m\n\u001b[0;32m   (...)\u001b[0m\n\u001b[1;32m     <a href='file:///usr/local/lib/python3.8/site-packages/seaborn/_decorators.py?line=42'>43</a>\u001b[0m         \u001b[39mFutureWarning\u001b[39;00m\n\u001b[1;32m     <a href='file:///usr/local/lib/python3.8/site-packages/seaborn/_decorators.py?line=43'>44</a>\u001b[0m     )\n\u001b[1;32m     <a href='file:///usr/local/lib/python3.8/site-packages/seaborn/_decorators.py?line=44'>45</a>\u001b[0m kwargs\u001b[39m.\u001b[39mupdate({k: arg \u001b[39mfor\u001b[39;00m k, arg \u001b[39min\u001b[39;00m \u001b[39mzip\u001b[39m(sig\u001b[39m.\u001b[39mparameters, args)})\n\u001b[0;32m---> <a href='file:///usr/local/lib/python3.8/site-packages/seaborn/_decorators.py?line=45'>46</a>\u001b[0m \u001b[39mreturn\u001b[39;00m f(\u001b[39m*\u001b[39;49m\u001b[39m*\u001b[39;49mkwargs)\n",
      "File \u001b[0;32m/usr/local/lib/python3.8/site-packages/seaborn/categorical.py:3757\u001b[0m, in \u001b[0;36mcatplot\u001b[0;34m(x, y, hue, data, row, col, col_wrap, estimator, ci, n_boot, units, seed, order, hue_order, row_order, col_order, kind, height, aspect, orient, color, palette, legend, legend_out, sharex, sharey, margin_titles, facet_kws, **kwargs)\u001b[0m\n\u001b[1;32m   <a href='file:///usr/local/lib/python3.8/site-packages/seaborn/categorical.py?line=3754'>3755</a>\u001b[0m \u001b[39mexcept\u001b[39;00m \u001b[39mKeyError\u001b[39;00m:\n\u001b[1;32m   <a href='file:///usr/local/lib/python3.8/site-packages/seaborn/categorical.py?line=3755'>3756</a>\u001b[0m     err \u001b[39m=\u001b[39m \u001b[39m\"\u001b[39m\u001b[39mPlot kind \u001b[39m\u001b[39m'\u001b[39m\u001b[39m{}\u001b[39;00m\u001b[39m'\u001b[39m\u001b[39m is not recognized\u001b[39m\u001b[39m\"\u001b[39m\u001b[39m.\u001b[39mformat(kind)\n\u001b[0;32m-> <a href='file:///usr/local/lib/python3.8/site-packages/seaborn/categorical.py?line=3756'>3757</a>\u001b[0m     \u001b[39mraise\u001b[39;00m \u001b[39mValueError\u001b[39;00m(err)\n\u001b[1;32m   <a href='file:///usr/local/lib/python3.8/site-packages/seaborn/categorical.py?line=3758'>3759</a>\u001b[0m \u001b[39m# Alias the input variables to determine categorical order and palette\u001b[39;00m\n\u001b[1;32m   <a href='file:///usr/local/lib/python3.8/site-packages/seaborn/categorical.py?line=3759'>3760</a>\u001b[0m \u001b[39m# correctly in the case of a count plot\u001b[39;00m\n\u001b[1;32m   <a href='file:///usr/local/lib/python3.8/site-packages/seaborn/categorical.py?line=3760'>3761</a>\u001b[0m \u001b[39mif\u001b[39;00m kind \u001b[39m==\u001b[39m \u001b[39m\"\u001b[39m\u001b[39mcount\u001b[39m\u001b[39m\"\u001b[39m:\n",
      "\u001b[0;31mValueError\u001b[0m: Plot kind 'Count' is not recognized"
     ]
    },
    {
     "data": {
      "text/plain": [
       "<Figure size 2160x720 with 0 Axes>"
      ]
     },
     "metadata": {},
     "output_type": "display_data"
    }
   ],
   "source": [
    "#SUPPOSED TO RUN BUT NOW RUNNING, FIX IN THE MORNING\n",
    "sns.catplot(data=top_countries_df,kind=\"Count\", x = \"Country\", hue = \"Status\") \n",
    "\n"
   ]
  }
 ],
 "metadata": {
  "interpreter": {
   "hash": "949777d72b0d2535278d3dc13498b2535136f6dfe0678499012e853ee9abcab1"
  },
  "kernelspec": {
   "display_name": "Python 3.8.5 64-bit",
   "language": "python",
   "name": "python3"
  },
  "language_info": {
   "codemirror_mode": {
    "name": "ipython",
    "version": 3
   },
   "file_extension": ".py",
   "mimetype": "text/x-python",
   "name": "python",
   "nbconvert_exporter": "python",
   "pygments_lexer": "ipython3",
   "version": "3.8.5"
  },
  "orig_nbformat": 4
 },
 "nbformat": 4,
 "nbformat_minor": 2
}
