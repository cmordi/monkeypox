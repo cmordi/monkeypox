{
 "cells": [
  {
   "cell_type": "code",
   "execution_count": null,
   "metadata": {},
   "outputs": [],
   "source": [
    "import numpy as np \n",
    "import pandas as pd\n",
    "\n",
    "# data visualisation\n",
    "import matplotlib.pyplot as plt\n",
    "import plotly.express as px\n",
    "import seaborn as sns \n",
    "\n",
    "import missingno as msno #visualises missing values\n",
    "from wordcloud import WordCloud #to find the most frequent words "
   ]
  },
  {
   "cell_type": "code",
   "execution_count": null,
   "metadata": {},
   "outputs": [],
   "source": [
    "#data that was scraped from source\n",
    "scrape = \"https://raw.githubusercontent.com/globaldothealth/monkeypox/main/latest.csv\""
   ]
  },
  {
   "cell_type": "markdown",
   "metadata": {},
   "source": [
    "#### Pre-Processing(data cleaning):\n",
    "- loading\n",
    "- peeking\n",
    "- general info"
   ]
  },
  {
   "cell_type": "code",
   "execution_count": null,
   "metadata": {},
   "outputs": [],
   "source": [
    "#loading data \n",
    "df = pd.read_csv(scrape)"
   ]
  },
  {
   "cell_type": "code",
   "execution_count": null,
   "metadata": {},
   "outputs": [],
   "source": [
    "df.head()"
   ]
  },
  {
   "cell_type": "code",
   "execution_count": null,
   "metadata": {},
   "outputs": [],
   "source": [
    "df.tail() #addressed results a few lines down"
   ]
  },
  {
   "cell_type": "code",
   "execution_count": null,
   "metadata": {},
   "outputs": [],
   "source": [
    "#number of countries with monkeypox cases\n",
    "len(df[\"Country\"].unique())"
   ]
  },
  {
   "cell_type": "code",
   "execution_count": null,
   "metadata": {},
   "outputs": [],
   "source": [
    "df.info()"
   ]
  },
  {
   "cell_type": "code",
   "execution_count": null,
   "metadata": {},
   "outputs": [],
   "source": [
    "#to see the number of missing values in the dataset\n",
    "\n",
    "df.isnull().sum() "
   ]
  },
  {
   "cell_type": "markdown",
   "metadata": {},
   "source": [
    "##### Although there a quite a few missing values in some columns, these values are not of much importance as they do not affect the integrity of core information such as the number of confirmed cases."
   ]
  },
  {
   "cell_type": "markdown",
   "metadata": {},
   "source": [
    "### Exploratory Data Analysis (EDA)"
   ]
  },
  {
   "cell_type": "code",
   "execution_count": null,
   "metadata": {},
   "outputs": [],
   "source": [
    "df[\"Country\"].value_counts()"
   ]
  },
  {
   "cell_type": "code",
   "execution_count": null,
   "metadata": {},
   "outputs": [],
   "source": [
    "#function that plots the number of monkeypox cases per country (matplotlib & seaborn)\n",
    "def countrycases():\n",
    "    plt.figure(figsize=(50,8))\n",
    "    sns.countplot(x=\"Country\", data=df)\n",
    "    plt.xticks(rotation=90)\n",
    "    plt.show()"
   ]
  },
  {
   "cell_type": "code",
   "execution_count": null,
   "metadata": {},
   "outputs": [],
   "source": [
    "countrycases()"
   ]
  },
  {
   "cell_type": "code",
   "execution_count": 287,
   "metadata": {},
   "outputs": [
    {
     "data": {
      "text/plain": [
       "City\n",
       "Anchorage         2\n",
       "Austin            1\n",
       "Boston            1\n",
       "Chicago           7\n",
       "Cincinnati        2\n",
       "Cleveland         1\n",
       "Dallas            1\n",
       "Denver            1\n",
       "Forest Park       1\n",
       "Houston           2\n",
       "Kansas City       2\n",
       "Louisville        2\n",
       "Milwaukee         1\n",
       "Nashville         3\n",
       "Philadelphia      2\n",
       "Sacramento        1\n",
       "San Francisco    20\n",
       "San Francsico    16\n",
       "St. Louis         1\n",
       "Washington DC     1\n",
       "Name: Status, dtype: int64"
      ]
     },
     "execution_count": 287,
     "metadata": {},
     "output_type": "execute_result"
    }
   ],
   "source": [
    "#due to the USA's high monkeypox count i will further breakdown its cases based on cities\n",
    "\n",
    "#REMEMBER TO REWRITE YOUR CODE, ITS NOT PRINTING IT IN THE FORMAT YOU WANT!!!\n",
    "\n",
    "\n",
    "\n",
    "df[df[\"Country\"] == \"United States\"].groupby(\"City\")[\"Status\"].size()"
   ]
  }
 ],
 "metadata": {
  "interpreter": {
   "hash": "949777d72b0d2535278d3dc13498b2535136f6dfe0678499012e853ee9abcab1"
  },
  "kernelspec": {
   "display_name": "Python 3.8.5 64-bit",
   "language": "python",
   "name": "python3"
  },
  "language_info": {
   "codemirror_mode": {
    "name": "ipython",
    "version": 3
   },
   "file_extension": ".py",
   "mimetype": "text/x-python",
   "name": "python",
   "nbconvert_exporter": "python",
   "pygments_lexer": "ipython3",
   "version": "3.8.5"
  },
  "orig_nbformat": 4
 },
 "nbformat": 4,
 "nbformat_minor": 2
}
